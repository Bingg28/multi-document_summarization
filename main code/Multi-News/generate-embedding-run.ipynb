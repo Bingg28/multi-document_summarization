{
 "cells": [
  {
   "cell_type": "code",
   "execution_count": null,
   "id": "c690143d",
   "metadata": {},
   "outputs": [],
   "source": [
    "# Read the sentences of each paper.\n",
    "\n",
    "sents_papers = []\n",
    "for i in doc_index_path[dir_i]:\n",
    "    sents_papers_one = []\n",
    "    onetext_open1 = 'duc_sents/' + str(dir_i) + '/duc' + str(i) + '.txt'\n",
    "    temp_sentslist = open(onetext_open1,'r' ,encoding='utf-8')\n",
    "    for sents in temp_sentslist:\n",
    "        sents = sents.strip('\\n')\n",
    "        sents_papers_one.append(sents)\n",
    "        \n",
    "    sents_papers_one_dic = {}\n",
    "    for k in range(len(sents_papers_one)):\n",
    "        sents_papers_one_dic[k] = sents_papers_one[k]\n",
    "        \n",
    "    sents_papers.append(sents_papers_one_dic)"
   ]
  },
  {
   "cell_type": "code",
   "execution_count": null,
   "id": "46d1e22c",
   "metadata": {},
   "outputs": [],
   "source": [
    "sents_papers_list = []\n",
    "for i in range(len(sents_papers)):\n",
    "    sents_papers_list_one = []\n",
    "    for j in sents_papers[i].keys():\n",
    "        sents_papers_list_one.append(sents_papers[i][j])\n",
    "    sents_papers_list.append(sents_papers_list_one)"
   ]
  },
  {
   "cell_type": "code",
   "execution_count": null,
   "id": "cd6bcafc",
   "metadata": {},
   "outputs": [],
   "source": [
    "sents_embedding_list = []\n",
    "for i in range(len(sents_papers_list)):\n",
    "    temp_sents_embedding_one = embed(sents_papers_list[i])\n",
    "    sents_embedding_one = np.array(temp_sents_embedding_one)\n",
    "    sents_embedding_list.append(sents_embedding_one)"
   ]
  },
  {
   "cell_type": "code",
   "execution_count": null,
   "id": "0a84f9ac",
   "metadata": {},
   "outputs": [],
   "source": [
    "sents_embeddings = np.array(sents_embedding_list, dtype=object)"
   ]
  },
  {
   "cell_type": "code",
   "execution_count": null,
   "id": "53b2fb8f",
   "metadata": {},
   "outputs": [],
   "source": [
    "# Write sentence-embedding to file.\n",
    "\n",
    "pathdir1 = \"./duc_sents_embeddings-DAN/\" + str(dir_i) + \".npy\"\n",
    "np.save(pathdir1, sents_embeddings)"
   ]
  },
  {
   "cell_type": "code",
   "execution_count": null,
   "id": "14a59ca4",
   "metadata": {},
   "outputs": [],
   "source": []
  }
 ],
 "metadata": {
  "kernelspec": {
   "display_name": "tf2_py38",
   "language": "python",
   "name": "tf2_py38"
  },
  "language_info": {
   "codemirror_mode": {
    "name": "ipython",
    "version": 3
   },
   "file_extension": ".py",
   "mimetype": "text/x-python",
   "name": "python",
   "nbconvert_exporter": "python",
   "pygments_lexer": "ipython3",
   "version": "3.8.13"
  }
 },
 "nbformat": 4,
 "nbformat_minor": 5
}
