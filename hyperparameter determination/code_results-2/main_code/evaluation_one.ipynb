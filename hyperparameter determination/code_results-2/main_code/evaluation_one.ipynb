{
 "cells": [
  {
   "cell_type": "code",
   "execution_count": null,
   "metadata": {},
   "outputs": [],
   "source": [
    "clufinal_ans_alldir = []\n",
    "summarys_alldir = {}\n",
    "reference_alldir = {}\n",
    "\n",
    "for dir_i in val_dir_index: \n",
    "    # 每个文件夹\n",
    "    \n",
    "    #(tf2_py38环境下)\n",
    "    %run clustering-summarization-run.ipynb\n",
    "    \n",
    "    summarys_alldir[dir_i] = summarys\n",
    "    reference_alldir[dir_i] = reference_one\n",
    "    "
   ]
  },
  {
   "cell_type": "code",
   "execution_count": null,
   "metadata": {},
   "outputs": [],
   "source": [
    "pathdir0 = \"./val_summarys/summary_\" + threshold12_str + '.txt'\n",
    "f_onetext1 = open(pathdir0, 'w')\n",
    "for dirs in summarys_alldir:\n",
    "    f_onetext1.writelines(str(dirs))\n",
    "    f_onetext1.write('\\n')\n",
    "    for lines in summarys_alldir[dirs]:\n",
    "        f_onetext1.writelines(lines)\n",
    "        f_onetext1.write('\\n')\n",
    "    f_onetext1.write('\\n')\n",
    "f_onetext1.close()"
   ]
  },
  {
   "cell_type": "code",
   "execution_count": null,
   "metadata": {},
   "outputs": [],
   "source": [
    "summarys_all = []\n",
    "for item in summarys_alldir:\n",
    "    summarys_all.append(summarys_alldir[item])\n",
    "    \n",
    "reference_all = []\n",
    "for item in reference_alldir:\n",
    "    reference_all_one = []\n",
    "    reference_all_one.append(reference_alldir[item])\n",
    "    reference_all.append(reference_all_one)"
   ]
  },
  {
   "cell_type": "code",
   "execution_count": null,
   "metadata": {},
   "outputs": [],
   "source": [
    "# 输出所有文件夹的Rouge打分。\n",
    "    \n",
    "rouge = Pythonrouge(summary_file_exist=False,\n",
    "                    summary=summarys_all, reference=reference_all,\n",
    "                    n_gram=2, ROUGE_SU4=True, ROUGE_L=True,\n",
    "                    recall_only=False, stemming=True, stopwords=False,\n",
    "                    word_level=True, length_limit=True, length=264,\n",
    "                    use_cf=False, cf=95, scoring_formula='average',\n",
    "                    resampling=True, samples=1000, favor=True, p=0.5)\n",
    "\n",
    "score = rouge.calc_score()\n",
    "scores_all[threshold12_str] = score"
   ]
  },
  {
   "cell_type": "code",
   "execution_count": null,
   "metadata": {},
   "outputs": [],
   "source": []
  }
 ],
 "metadata": {
  "kernelspec": {
   "display_name": "tf2_py38",
   "language": "python",
   "name": "tf2_py38"
  },
  "language_info": {
   "codemirror_mode": {
    "name": "ipython",
    "version": 3
   },
   "file_extension": ".py",
   "mimetype": "text/x-python",
   "name": "python",
   "nbconvert_exporter": "python",
   "pygments_lexer": "ipython3",
   "version": "3.8.13"
  }
 },
 "nbformat": 4,
 "nbformat_minor": 2
}
